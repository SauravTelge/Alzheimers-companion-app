{
 "cells": [
  {
   "cell_type": "code",
   "execution_count": null,
   "metadata": {},
   "outputs": [],
   "source": [
    "from moviepy.video.io.VideoFileClip import VideoFileClip\n",
    "import speech_recognition as sr\n",
    "import json\n",
    "\n",
    "def split_video(video_path, chunk_length):\n",
    "    with VideoFileClip(video_path) as video:\n",
    "        duration = int(video.duration)\n",
    "        for i in range(0, duration, chunk_length):\n",
    "            start = i\n",
    "            end = min(i + chunk_length, duration)\n",
    "            yield video.subclip(start, end), start, end\n",
    "\n",
    "def extract_and_transcribe(video_clip, start, end, recognizer):\n",
    "    audio_path = f\"chunk_{start:04d}_{end:04d}.wav\"\n",
    "    video_clip.audio.write_audiofile(audio_path)\n",
    "\n",
    "    with sr.AudioFile(audio_path) as source:\n",
    "        audio_data = recognizer.record(source)\n",
    "        try:\n",
    "            text = recognizer.recognize_google(audio_data)\n",
    "            return text\n",
    "        except sr.UnknownValueError:\n",
    "            return \"Audio was not understood\"\n",
    "        except sr.RequestError:\n",
    "            return \"Request failed\"\n",
    "\n",
    "def main(video_path):\n",
    "    recognizer = sr.Recognizer()\n",
    "    all_transcripts = {}\n",
    "\n",
    "    for video_clip, start, end in split_video(video_path, 10):\n",
    "        transcript = extract_and_transcribe(video_clip, start, end, recognizer)\n",
    "        all_transcripts[f\"chunk_{start:04d}_{end:04d}\"] = transcript\n",
    "\n",
    "    with open('full_transcript.json', 'w') as json_file:\n",
    "        json.dump(all_transcripts, json_file, indent=4)\n",
    "\n",
    "    print(\"Transcription completed and saved to full_transcript.json\")\n",
    "\n",
    "# Usage\n",
    "video_path = \"Lunch.mp4\" \n",
    "main(video_path)"
   ]
  }
 ],
 "metadata": {
  "language_info": {
   "name": "python"
  }
 },
 "nbformat": 4,
 "nbformat_minor": 2
}
