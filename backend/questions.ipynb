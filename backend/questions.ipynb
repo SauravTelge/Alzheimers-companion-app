{
 "cells": [
  {
   "cell_type": "code",
   "execution_count": 1,
   "metadata": {},
   "outputs": [],
   "source": [
    "import base64\n",
    "import requests\n",
    "import openai\n",
    "import os\n",
    "import json"
   ]
  },
  {
   "cell_type": "code",
   "execution_count": 12,
   "metadata": {},
   "outputs": [],
   "source": [
    "openai.api_type = \"azure\"\n",
    "openai.api_key = '252c6c79a5da4a80a61e54d315ba1fed'\n",
    "openai.api_base = 'https://api.umgpt.umich.edu/azure-openai-api/ptu'\n",
    "openai.api_version = '2023-03-15-preview'"
   ]
  },
  {
   "cell_type": "code",
   "execution_count": 16,
   "metadata": {},
   "outputs": [],
   "source": [
    "def combine(VIDEO, TRANSCRIPTION):\n",
    "    response = openai.ChatCompletion.create(\n",
    "            engine='gpt-4',\n",
    "            messages=[\n",
    "                {\"role\": \"system\", \"content\": \"You are a helpful assistant.\"},\n",
    "                {\"role\": \"user\", \"content\": f\"Can you combine the following video description, and video transcript to describe what is happening in the scene: Video description: {VIDEO} Video transcription: {TRANSCRIPTION}\"}\n",
    "            ]\n",
    "        )\n",
    "    return response\n"
   ]
  },
  {
   "cell_type": "code",
   "execution_count": null,
   "metadata": {},
   "outputs": [],
   "source": [
    "folders = os.listdir(os.getcwd() + \"\\\\vid_summary\\\\\")\n",
    "for folder in folders:\n",
    "    for file in os.listdir(os.getcwd() + \"\\\\vid_summary\\\\\" + folder):\n",
    "        VIDEO = json.loads(os.getcwd() + \"\\\\vid_summary\\\\\" + folder + \"\\\\\" + file)\n",
    "        TRANSCRIPTION = json.loads()"
   ]
  },
  {
   "cell_type": "code",
   "execution_count": 14,
   "metadata": {},
   "outputs": [
    {
     "name": "stdout",
     "output_type": "stream",
     "text": [
      "Of course! I can help, but you forgot to provide the details such as image description and audio transcript. Can you provide them?\n"
     ]
    }
   ],
   "source": [
    "print(combine(VIDEO, TRANSCRIPTION)['choices'][0]['message']['content'])"
   ]
  }
 ],
 "metadata": {
  "kernelspec": {
   "display_name": "venv",
   "language": "python",
   "name": "python3"
  },
  "language_info": {
   "codemirror_mode": {
    "name": "ipython",
    "version": 3
   },
   "file_extension": ".py",
   "mimetype": "text/x-python",
   "name": "python",
   "nbconvert_exporter": "python",
   "pygments_lexer": "ipython3",
   "version": "3.11.4"
  }
 },
 "nbformat": 4,
 "nbformat_minor": 2
}
